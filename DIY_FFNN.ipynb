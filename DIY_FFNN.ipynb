{
  "cells": [
    {
      "cell_type": "code",
      "execution_count": 679,
      "metadata": {
        "id": "1Y6D4MUGmFhc"
      },
      "outputs": [],
      "source": [
        "import numpy as np\n",
        "import matplotlib.pyplot as plt\n",
        "\n",
        "from sklearn.datasets import load_digits\n",
        "\n",
        "from sklearn.metrics import accuracy_score, log_loss\n",
        "from sklearn.model_selection import train_test_split\n",
        "from sklearn.preprocessing import OneHotEncoder\n",
        "from scipy.special import softmax as true_softmax\n",
        "\n",
        "from sklearn.linear_model import LogisticRegressionCV"
      ]
    },
    {
      "cell_type": "code",
      "execution_count": 800,
      "metadata": {
        "id": "9Cia3ondmHPa"
      },
      "outputs": [],
      "source": [
        "class function:\n",
        "\n",
        "  def __init__(self, function, derivative):\n",
        "    self.function = function\n",
        "    self.derivative = derivative\n",
        "\n",
        "relu = function(\n",
        "    function=lambda x: max(x, 0),\n",
        "    derivative=lambda x: int(x>=0)\n",
        "\n",
        ")\n",
        "sigmoid = function(\n",
        "  function = lambda x: 1/(1 + np.exp(-x)),\n",
        "  derivative = lambda x: 1/(1 + np.exp(-x)) * (1 - 1/(1 + np.exp(-x)))\n",
        ")\n",
        "\n",
        "softmax = function(\n",
        "    function=true_softmax,\n",
        "    derivative=lambda x: np.diag(x) - x.reshape(-1, 1) @ x.reshape(1, -1)\n",
        ")\n",
        "cross_entropy = function(\n",
        "    function=lambda y, y_pred: -np.sum(np.where(y==1, np.log(y_pred), 0)),\n",
        "    derivative=lambda y, y_pred: -np.where(y==1, 1/(y_pred+1e-4), 0)\n",
        ")\n",
        "\n",
        "class perceptron_layer:\n",
        "\n",
        "  def __init__(self, dim, w=None, b=None, activation=relu):\n",
        "    self.dim = dim\n",
        "    if w is None:\n",
        "      self.w = np.random.normal(size=dim, scale=0.5)\n",
        "    else:\n",
        "      assert w.shape[0] == dim[0]\n",
        "      assert w.shape[1] == dim[1] \n",
        "      self.w = w\n",
        "    if b is None:\n",
        "      self.b = np.random.normal(size=dim[0], scale=0.5)\n",
        "    else:\n",
        "      assert len(b) == dim[0]\n",
        "      self.b = b\n",
        "    self.activation_function = np.vectorize(activation.function)\n",
        "    self.activation_derivative = np.vectorize(activation.derivative)\n",
        "    self.input = None\n",
        "    self.output_before_activation = None\n",
        "    self.gradient_b = np.zeros(shape=dim[0])\n",
        "    self.gradient_w = np.zeros(shape=dim)\n",
        "\n",
        "  def forward_pass(self, input):\n",
        "    self.input = input\n",
        "    self.output_before_activation = self.w @ self.input + self.b\n",
        "    return self.activation_function(self.output_before_activation)\n",
        "\n",
        "  def backward_pass(self, grad_output):\n",
        "    self.gradient_b = self.gradient_b + grad_output * self.activation_derivative(self.output_before_activation)\n",
        "    self.gradient_w = self.gradient_w + grad_output.reshape(-1, 1) @ self.input.reshape(1, -1)\n",
        "    grad_input = self.gradient_b @ self.w\n",
        "    assert not np.isnan(self.gradient_b).any()\n",
        "    assert not np.isnan(self.gradient_w).any()\n",
        "    return grad_input\n",
        "  \n",
        "  def update_params(self, learning_rate=0.01):\n",
        "    self.b = self.b - learning_rate * self.gradient_b\n",
        "    self.w = self.w - learning_rate * self.gradient_w\n",
        "    self.gradient_b = np.zeros(shape=self.dim[0])\n",
        "    self.gradient_w = np.zeros(shape=self.dim)\n",
        "    assert not np.isnan(self.w).any()\n",
        "    assert not np.isnan(self.b).any()\n",
        "\n",
        "class mlp:\n",
        "\n",
        "  def __init__(self, output_transform=softmax, loss=cross_entropy, learning_rate=0.01):\n",
        "    self.layers = []\n",
        "    self.output_transform=output_transform\n",
        "    self.loss = loss\n",
        "    self.output_raw = None\n",
        "    self.y_pred = None\n",
        "    self.learning_rate=learning_rate\n",
        "    self.training_history={\n",
        "        'train_loss': [],\n",
        "        'test_loss': [],\n",
        "        'test_accuracy': [],\n",
        "    }\n",
        "\n",
        "  def add_layer(self, layer):\n",
        "    if len(self.layers) > 0:\n",
        "      assert layer.dim[1] == self.layers[-1].dim[0]\n",
        "    self.layers.append(layer)\n",
        "\n",
        "  def forward_pass(self, x):\n",
        "    output = x\n",
        "    for i in range(len(self.layers)):\n",
        "      output = self.layers[i].forward_pass(output)\n",
        "    self.output_raw = output\n",
        "    if self.output_transform is not None:\n",
        "      output = self.output_transform.function(output)\n",
        "    self.y_pred = output\n",
        "    return self.y_pred\n",
        "    \n",
        "  def backward_pass(self, y):\n",
        "    gradient = self.output_transform.derivative(self.y_pred) @ self.loss.derivative(y, self.y_pred)\n",
        "    for i in range(len(self.layers)-1, -1, -1):\n",
        "      gradient = self.layers[i].backward_pass(gradient)\n",
        "\n",
        "  def update_params(self):\n",
        "    for layer in self.layers:\n",
        "      layer.update_params(learning_rate=self.learning_rate)\n",
        "\n",
        "  def fit(self, X_train, y_train, *, X_test=None, y_test=None, epochs=5, batch_size=5,):\n",
        "    for epoch in range(epochs):\n",
        "      predictions = []\n",
        "      true = []\n",
        "      loss = []\n",
        "      for i in range(len(X_train)):\n",
        "        y_pred = self.forward_pass(X_train[i])\n",
        "        self.backward_pass(y_train[i])\n",
        "        predictions.append(y_pred)\n",
        "        true.append(y_train[i])\n",
        "        loss.append(cross_entropy.function(y_train[i], y_pred))\n",
        "        if i%batch_size==0:\n",
        "          self.update_params()\n",
        "        self.update_params()\n",
        "      train_loss = np.mean(loss)\n",
        "      test_loss = log_loss(enc.transform(y_test), self.predict_proba(X_test)) #BAD CODING!!!\n",
        "      test_accuracy = accuracy_score(y_test, self.predict(X_test)).round(2)\n",
        "      print(f\"Epoch {epoch} - train_loss: {train_loss.round(4)}, test_loss: {test_loss}, test_accuracy:{test_accuracy.round(2)}\")\n",
        "      self.training_history['train_loss'].append(train_loss)\n",
        "      self.training_history['test_loss'].append(test_loss)\n",
        "      self.training_history['test_accuracy'].append(test_accuracy)\n",
        "      \n",
        "  def predict(self, X):\n",
        "    predictions = []\n",
        "    for x in X:\n",
        "      predictions.append(np.argmax(self.forward_pass(x)))\n",
        "    return predictions\n",
        "\n",
        "  def predict_proba(self, X):\n",
        "    predictions = []\n",
        "    for x in X:\n",
        "      predictions.append(self.forward_pass(x))\n",
        "    return np.array(predictions)"
      ]
    },
    {
      "cell_type": "code",
      "execution_count": 758,
      "metadata": {
        "id": "JySrfNiDXsa_"
      },
      "outputs": [],
      "source": [
        "# Load data\n",
        "df = load_digits()\n",
        "X = df['data']/16\n",
        "y = df['target'].reshape(-1, 1)\n",
        "enc = OneHotEncoder(sparse=False)\n",
        "enc.fit(y)\n",
        "X_train, X_test, y_train, y_test = train_test_split(X, y, test_size=0.25)"
      ]
    },
    {
      "cell_type": "code",
      "execution_count": 840,
      "metadata": {
        "colab": {
          "base_uri": "https://localhost:8080/",
          "height": 282
        },
        "id": "180x5_yilyAc",
        "outputId": "574e9dfe-08ed-42f9-97cd-77dba00ab26d"
      },
      "outputs": [
        {
          "output_type": "stream",
          "name": "stdout",
          "text": [
            "Label: 0\n"
          ]
        },
        {
          "output_type": "display_data",
          "data": {
            "text/plain": [
              "<Figure size 432x288 with 1 Axes>"
            ],
            "image/png": "[encoded data removed]"
          },
          "metadata": {
            "needs_background": "light"
          }
        }
      ],
      "source": [
        "plt.imshow(X[0].reshape(8, 8))\n",
        "print('Label:', y[0][0]);"
      ]
    },
    {
      "cell_type": "markdown",
      "source": [
        "# **Baseline model - Logistic regression with cross-validation**"
      ],
      "metadata": {
        "id": "lJI_oJvHlmU-"
      }
    },
    {
      "cell_type": "code",
      "source": [
        "logit = LogisticRegressionCV(multi_class='multinomial', solver='sag')\n",
        "logit.fit(X_train, y_train)"
      ],
      "metadata": {
        "id": "2WZrD-Grli_J"
      },
      "execution_count": null,
      "outputs": []
    },
    {
      "cell_type": "code",
      "source": [
        "y_pred = logit.predict(X_test)\n",
        "y_prob = logit.predict_proba(X_test)\n",
        "print(f\"\"\"\n",
        "  Logit results\n",
        "  Test accuracy: {accuracy_score(y_test, y_pred).round(2)}\n",
        "  Test log-loss: {log_loss(enc.transform(y_test), y_prob).round(3)}\n",
        "\"\"\")"
      ],
      "metadata": {
        "colab": {
          "base_uri": "https://localhost:8080/"
        },
        "id": "vVn5n86UmKuZ",
        "outputId": "50c422b4-6118-4622-e129-c1867d3ccdae"
      },
      "execution_count": 841,
      "outputs": [
        {
          "output_type": "stream",
          "name": "stdout",
          "text": [
            "\n",
            "  Logit results\n",
            "  Test accuracy: 0.96\n",
            "  Test log-loss: 0.093\n",
            "\n"
          ]
        }
      ]
    },
    {
      "cell_type": "markdown",
      "source": [
        "# **Multilayer perceptron**"
      ],
      "metadata": {
        "id": "EC7QkxaLmOt1"
      }
    },
    {
      "cell_type": "code",
      "execution_count": 831,
      "metadata": {
        "id": "P5uqQ6j296J4"
      },
      "outputs": [],
      "source": [
        "model = mlp(learning_rate=0.005)\n",
        "model.add_layer(perceptron_layer([32, 64]))\n",
        "model.add_layer(perceptron_layer([10, 32]))"
      ]
    },
    {
      "cell_type": "code",
      "source": [
        "# Training\n",
        "model.fit(X_train, enc.transform(y_train), X_test=X_test, y_test=y_test, epochs=100, batch_size=10)"
      ],
      "metadata": {
        "colab": {
          "base_uri": "https://localhost:8080/"
        },
        "id": "JrsXN4waHijw",
        "outputId": "584660fb-2757-4027-f22a-645f202cd706"
      },
      "execution_count": 832,
      "outputs": [
        {
          "output_type": "stream",
          "name": "stdout",
          "text": [
            "Epoch 0 - train_loss: 1.5528, test_loss: 0.8345872717348969, test_accuracy:0.73\n",
            "Epoch 1 - train_loss: 0.6263, test_loss: 0.45032345453477585, test_accuracy:0.87\n",
            "Epoch 2 - train_loss: 0.4016, test_loss: 0.35167732742143204, test_accuracy:0.87\n",
            "Epoch 3 - train_loss: 0.3207, test_loss: 0.32146375270676275, test_accuracy:0.89\n",
            "Epoch 4 - train_loss: 0.2694, test_loss: 0.26643127570471725, test_accuracy:0.9\n",
            "Epoch 5 - train_loss: 0.2394, test_loss: 0.24823816849878189, test_accuracy:0.91\n",
            "Epoch 6 - train_loss: 0.2167, test_loss: 0.21748362853223357, test_accuracy:0.92\n",
            "Epoch 7 - train_loss: 0.1933, test_loss: 0.20402868404024133, test_accuracy:0.92\n",
            "Epoch 8 - train_loss: 0.1826, test_loss: 0.19331225273456532, test_accuracy:0.93\n",
            "Epoch 9 - train_loss: 0.1696, test_loss: 0.18492723313419193, test_accuracy:0.94\n",
            "Epoch 10 - train_loss: 0.1572, test_loss: 0.1826961096782824, test_accuracy:0.94\n",
            "Epoch 11 - train_loss: 0.1477, test_loss: 0.1721863481857014, test_accuracy:0.95\n",
            "Epoch 12 - train_loss: 0.1437, test_loss: 0.16650690063406387, test_accuracy:0.95\n",
            "Epoch 13 - train_loss: 0.1333, test_loss: 0.16076447792126322, test_accuracy:0.95\n",
            "Epoch 14 - train_loss: 0.1283, test_loss: 0.16853578435752353, test_accuracy:0.95\n",
            "Epoch 15 - train_loss: 0.1256, test_loss: 0.15884857492222876, test_accuracy:0.95\n",
            "Epoch 16 - train_loss: 0.1213, test_loss: 0.15846717449373623, test_accuracy:0.95\n",
            "Epoch 17 - train_loss: 0.1122, test_loss: 0.15441238149811948, test_accuracy:0.95\n",
            "Epoch 18 - train_loss: 0.1094, test_loss: 0.14337531131874787, test_accuracy:0.96\n",
            "Epoch 19 - train_loss: 0.1015, test_loss: 0.1475382030391535, test_accuracy:0.95\n",
            "Epoch 20 - train_loss: 0.0983, test_loss: 0.15814970491395128, test_accuracy:0.95\n",
            "Epoch 21 - train_loss: 0.098, test_loss: 0.1499804968217029, test_accuracy:0.95\n",
            "Epoch 22 - train_loss: 0.0939, test_loss: 0.14805417053854575, test_accuracy:0.94\n",
            "Epoch 23 - train_loss: 0.0888, test_loss: 0.1474507731461334, test_accuracy:0.94\n",
            "Epoch 24 - train_loss: 0.0866, test_loss: 0.14321459049002339, test_accuracy:0.94\n",
            "Epoch 25 - train_loss: 0.0809, test_loss: 0.15496613444014795, test_accuracy:0.95\n",
            "Epoch 26 - train_loss: 0.0797, test_loss: 0.15067794195546835, test_accuracy:0.95\n",
            "Epoch 27 - train_loss: 0.0819, test_loss: 0.14512206222726018, test_accuracy:0.95\n",
            "Epoch 28 - train_loss: 0.0775, test_loss: 0.1448066921107755, test_accuracy:0.95\n",
            "Epoch 29 - train_loss: 0.0764, test_loss: 0.13184749951987967, test_accuracy:0.95\n",
            "Epoch 30 - train_loss: 0.074, test_loss: 0.1279055879639341, test_accuracy:0.96\n",
            "Epoch 31 - train_loss: 0.0736, test_loss: 0.13041597875756397, test_accuracy:0.95\n",
            "Epoch 32 - train_loss: 0.072, test_loss: 0.12334546322444286, test_accuracy:0.96\n",
            "Epoch 33 - train_loss: 0.0675, test_loss: 0.13066234672239646, test_accuracy:0.95\n",
            "Epoch 34 - train_loss: 0.0645, test_loss: 0.1219150727146483, test_accuracy:0.96\n",
            "Epoch 35 - train_loss: 0.0639, test_loss: 0.12093847779698311, test_accuracy:0.96\n",
            "Epoch 36 - train_loss: 0.0597, test_loss: 0.1190640684255797, test_accuracy:0.96\n",
            "Epoch 37 - train_loss: 0.06, test_loss: 0.12259528399627972, test_accuracy:0.96\n",
            "Epoch 38 - train_loss: 0.0598, test_loss: 0.12587916109612668, test_accuracy:0.96\n",
            "Epoch 39 - train_loss: 0.0541, test_loss: 0.11319872695605196, test_accuracy:0.97\n",
            "Epoch 40 - train_loss: 0.0519, test_loss: 0.1047650549994943, test_accuracy:0.97\n",
            "Epoch 41 - train_loss: 0.0486, test_loss: 0.10309465146632155, test_accuracy:0.97\n",
            "Epoch 42 - train_loss: 0.0487, test_loss: 0.1000546792516173, test_accuracy:0.97\n",
            "Epoch 43 - train_loss: 0.0474, test_loss: 0.10432732100399919, test_accuracy:0.97\n",
            "Epoch 44 - train_loss: 0.0443, test_loss: 0.10521556472985465, test_accuracy:0.97\n",
            "Epoch 45 - train_loss: 0.0448, test_loss: 0.09720540374740617, test_accuracy:0.97\n",
            "Epoch 46 - train_loss: 0.0427, test_loss: 0.10134124412536248, test_accuracy:0.97\n",
            "Epoch 47 - train_loss: 0.0425, test_loss: 0.09788987137939632, test_accuracy:0.97\n",
            "Epoch 48 - train_loss: 0.0398, test_loss: 0.09841481740797361, test_accuracy:0.97\n",
            "Epoch 49 - train_loss: 0.0399, test_loss: 0.09955171073361183, test_accuracy:0.97\n",
            "Epoch 50 - train_loss: 0.0402, test_loss: 0.09911801778582054, test_accuracy:0.97\n",
            "Epoch 51 - train_loss: 0.0393, test_loss: 0.09962601787200775, test_accuracy:0.97\n",
            "Epoch 52 - train_loss: 0.0387, test_loss: 0.09573844491628247, test_accuracy:0.98\n",
            "Epoch 53 - train_loss: 0.0376, test_loss: 0.09665858019444906, test_accuracy:0.98\n",
            "Epoch 54 - train_loss: 0.0368, test_loss: 0.09986622065809334, test_accuracy:0.98\n",
            "Epoch 55 - train_loss: 0.0345, test_loss: 0.10127177462738211, test_accuracy:0.98\n",
            "Epoch 56 - train_loss: 0.0336, test_loss: 0.10059189004009987, test_accuracy:0.98\n",
            "Epoch 57 - train_loss: 0.0337, test_loss: 0.10485103437358972, test_accuracy:0.98\n",
            "Epoch 58 - train_loss: 0.0325, test_loss: 0.09745864160204977, test_accuracy:0.98\n",
            "Epoch 59 - train_loss: 0.0298, test_loss: 0.09554618768135, test_accuracy:0.98\n",
            "Epoch 60 - train_loss: 0.0289, test_loss: 0.09450543627174098, test_accuracy:0.98\n",
            "Epoch 61 - train_loss: 0.0281, test_loss: 0.09648467442604727, test_accuracy:0.98\n",
            "Epoch 62 - train_loss: 0.0287, test_loss: 0.09766723364579082, test_accuracy:0.98\n",
            "Epoch 63 - train_loss: 0.0279, test_loss: 0.09065588739891062, test_accuracy:0.98\n",
            "Epoch 64 - train_loss: 0.0263, test_loss: 0.0949297352686981, test_accuracy:0.98\n",
            "Epoch 65 - train_loss: 0.0266, test_loss: 0.10161732937233196, test_accuracy:0.97\n",
            "Epoch 66 - train_loss: 0.0266, test_loss: 0.09097645175961137, test_accuracy:0.97\n",
            "Epoch 67 - train_loss: 0.0258, test_loss: 0.09013284044031128, test_accuracy:0.98\n",
            "Epoch 68 - train_loss: 0.0241, test_loss: 0.10134643780294053, test_accuracy:0.97\n",
            "Epoch 69 - train_loss: 0.0233, test_loss: 0.09748930920169739, test_accuracy:0.97\n",
            "Epoch 70 - train_loss: 0.0236, test_loss: 0.10509964359266694, test_accuracy:0.97\n",
            "Epoch 71 - train_loss: 0.0252, test_loss: 0.10637039545856693, test_accuracy:0.97\n",
            "Epoch 72 - train_loss: 0.0239, test_loss: 0.10508393717548103, test_accuracy:0.97\n",
            "Epoch 73 - train_loss: 0.0231, test_loss: 0.10438816880820984, test_accuracy:0.97\n",
            "Epoch 74 - train_loss: 0.0225, test_loss: 0.10702256704042565, test_accuracy:0.97\n",
            "Epoch 75 - train_loss: 0.0222, test_loss: 0.10695013623419795, test_accuracy:0.97\n",
            "Epoch 76 - train_loss: 0.0199, test_loss: 0.10881630897898699, test_accuracy:0.97\n",
            "Epoch 77 - train_loss: 0.0201, test_loss: 0.1072391558926688, test_accuracy:0.97\n",
            "Epoch 78 - train_loss: 0.0198, test_loss: 0.11031021062248975, test_accuracy:0.97\n",
            "Epoch 79 - train_loss: 0.0184, test_loss: 0.10990380998962845, test_accuracy:0.97\n",
            "Epoch 80 - train_loss: 0.0193, test_loss: 0.10926996359554492, test_accuracy:0.97\n",
            "Epoch 81 - train_loss: 0.0183, test_loss: 0.10929105402173346, test_accuracy:0.97\n",
            "Epoch 82 - train_loss: 0.0197, test_loss: 0.10845708527257156, test_accuracy:0.97\n",
            "Epoch 83 - train_loss: 0.0172, test_loss: 0.10685930827937651, test_accuracy:0.97\n",
            "Epoch 84 - train_loss: 0.0184, test_loss: 0.10857137955749813, test_accuracy:0.97\n",
            "Epoch 85 - train_loss: 0.0163, test_loss: 0.10725683326536885, test_accuracy:0.97\n",
            "Epoch 86 - train_loss: 0.0166, test_loss: 0.1081862004038284, test_accuracy:0.97\n",
            "Epoch 87 - train_loss: 0.0161, test_loss: 0.10760639804095841, test_accuracy:0.97\n",
            "Epoch 88 - train_loss: 0.0152, test_loss: 0.1040186504226568, test_accuracy:0.97\n",
            "Epoch 89 - train_loss: 0.0158, test_loss: 0.10767430111267084, test_accuracy:0.97\n",
            "Epoch 90 - train_loss: 0.0143, test_loss: 0.10386524330362208, test_accuracy:0.97\n",
            "Epoch 91 - train_loss: 0.0155, test_loss: 0.10500046733673721, test_accuracy:0.97\n",
            "Epoch 92 - train_loss: 0.0167, test_loss: 0.10833034643107778, test_accuracy:0.97\n",
            "Epoch 93 - train_loss: 0.0143, test_loss: 0.10908983859099856, test_accuracy:0.97\n",
            "Epoch 94 - train_loss: 0.0169, test_loss: 0.10950555201299574, test_accuracy:0.97\n",
            "Epoch 95 - train_loss: 0.0145, test_loss: 0.10989916690282607, test_accuracy:0.97\n",
            "Epoch 96 - train_loss: 0.015, test_loss: 0.10810143110241624, test_accuracy:0.97\n",
            "Epoch 97 - train_loss: 0.0147, test_loss: 0.10827689804504415, test_accuracy:0.97\n",
            "Epoch 98 - train_loss: 0.0152, test_loss: 0.10836623522394416, test_accuracy:0.97\n",
            "Epoch 99 - train_loss: 0.0147, test_loss: 0.1082603904533939, test_accuracy:0.97\n"
          ]
        }
      ]
    },
    {
      "cell_type": "code",
      "source": [
        "print(f\"\"\"\n",
        "  MLP results\n",
        "  Test accuracy: {accuracy_score(y_test, model.predict(X_test)).round(2)}\n",
        "  Test log-loss: {log_loss(enc.transform(y_test), model.predict_proba(X_test)).round(3)}\n",
        "\"\"\")"
      ],
      "metadata": {
        "colab": {
          "base_uri": "https://localhost:8080/"
        },
        "id": "JBM6K-ZQma7A",
        "outputId": "1caf5f54-5eb6-4298-9f8e-9481dc51c8b0"
      },
      "execution_count": 833,
      "outputs": [
        {
          "output_type": "stream",
          "name": "stdout",
          "text": [
            "\n",
            "  MLP results\n",
            "  Test accuracy: 0.97\n",
            "  Test log-loss: 0.108\n",
            "\n"
          ]
        }
      ]
    },
    {
      "cell_type": "code",
      "source": [
        "fig = plt.figure(figsize=(10, 5))\n",
        "plt.plot(model.training_history['train_loss'], label='train_loss')\n",
        "plt.plot(model.training_history['test_loss'], label='test_loss')\n",
        "plt.hlines(\n",
        "    log_loss(enc.transform(y_test),logit.predict_proba(X_test)).round(3),\n",
        "    xmin=0,\n",
        "    xmax=100,\n",
        "    label='LogitCV test loss', color='r',\n",
        "    linestyles='dashed'\n",
        ")\n",
        "plt.title('Train and test loss VS LogitCV baseline')\n",
        "plt.legend()\n",
        "plt.show()"
      ],
      "metadata": {
        "colab": {
          "base_uri": "https://localhost:8080/",
          "height": 336
        },
        "id": "ZnNWx4IP-dmi",
        "outputId": "97cb33fd-f7e1-4a56-cbe1-47d49ae87505"
      },
      "execution_count": 842,
      "outputs": [
        {
          "output_type": "display_data",
          "data": {
            "text/plain": [
              "<Figure size 720x360 with 1 Axes>"
            ],
            "image/png": "[encoded data removed]"
          },
          "metadata": {
            "needs_background": "light"
          }
        }
      ]
    },
    {
      "cell_type": "code",
      "source": [],
      "metadata": {
        "id": "CGmwqA29hmHt"
      },
      "execution_count": null,
      "outputs": []
    }
  ],
  "metadata": {
    "colab": {
      "collapsed_sections": [],
      "provenance": []
    },
    "kernelspec": {
      "display_name": "Python 3",
      "name": "python3"
    },
    "language_info": {
      "name": "python"
    }
  },
  "nbformat": 4,
  "nbformat_minor": 0
}